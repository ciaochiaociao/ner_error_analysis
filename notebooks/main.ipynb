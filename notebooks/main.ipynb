{
 "cells": [
  {
   "cell_type": "code",
   "execution_count": null,
   "metadata": {},
   "outputs": [],
   "source": [
    "import os\n",
    "WORKDIR='/workspace/deployed_NER_Error_Recovery'\n",
    "LIB1DIR=os.path.join(WORKDIR, 'libs/ner_error_analysis')\n",
    "NOTEBOOKDIR=os.path.join(WORKDIR, 'notebooks')\n",
    "os.chdir(WORKDIR)\n",
    "import sys\n",
    "for p in [WORKDIR, LIB1DIR]:\n",
    "    sys.path.insert(0, p)\n",
    "print(sys.version)\n",
    "print(sys.executable)\n",
    "import nlu\n",
    "from nlu.parser import *\n",
    "from nlu.error import NERErrorAnnotator \n",
    "from typing import Iterable\n",
    "import time"
   ]
  },
  {
   "cell_type": "code",
   "execution_count": null,
   "metadata": {},
   "outputs": [],
   "source": [
    "cols_format = [{'type': 'gold', 'col_num': 1, 'tagger': 'ner'},\n",
    "                {'type': 'predict', 'col_num': 2, 'tagger': 'ner'}\n",
    "               ]\n",
    "fpath = 'data/recovery/flair.conll.test.gold.pred.iob2'\n",
    "parser = ConllParser(fpath, cols_format, tag_scheme='iob2')\n",
    "\n",
    "parser.set_entity_mentions(tag_policy='conll')\n",
    "parser.obtain_statistics(entity_stat=True, source='predict', tag_policy='conll')"
   ]
  },
  {
   "cell_type": "code",
   "execution_count": 6,
   "metadata": {
    "pycharm": {
     "is_executing": false,
     "name": "#%%\n"
    }
   },
   "outputs": [],
   "source": [
    "NERErrorAnnotator.annotate(parser)"
   ]
  },
  {
   "cell_type": "code",
   "execution_count": 7,
   "metadata": {},
   "outputs": [
    {
     "name": "stdout",
     "output_type": "stream",
     "text": [
      "(D0-S0-T0) SOCCER\n"
     ]
    }
   ],
   "source": [
    "print(repr(parser.docs[0][0][0]))"
   ]
  },
  {
   "cell_type": "code",
   "execution_count": 8,
   "metadata": {},
   "outputs": [
    {
     "data": {
      "text/plain": [
       "(D0-S6-PEM0) (2 items) (predict) Oleg Shatskiku (PER)"
      ]
     },
     "execution_count": 8,
     "metadata": {},
     "output_type": "execute_result"
    }
   ],
   "source": [
    "parser.pems[2]"
   ]
  },
  {
   "cell_type": "code",
   "execution_count": 9,
   "metadata": {},
   "outputs": [
    {
     "name": "stdout",
     "output_type": "stream",
     "text": [
      "Oleg Shatskiku\n"
     ]
    }
   ],
   "source": [
    "print((parser.pems[2]))"
   ]
  },
  {
   "cell_type": "code",
   "execution_count": 10,
   "metadata": {},
   "outputs": [
    {
     "data": {
      "text/plain": [
       "D0-S5-PAIR2\n",
       "(G) China controlled most of the match and saw several chances missed until the 78th minute when Uzbek striker \u001b[33m[Igor Shkvyrin]PER\u001b[0m took advantage of a misdirected defensive header to lob the ball over the advancing Chinese keeper and into an empty net .\n",
       "(P) China controlled most of the match and saw several chances missed until the 78th minute when Uzbek striker \u001b[34m[Igor Shkvyrin]PER\u001b[0m took advantage of a misdirected defensive header to lob the ball over the advancing Chinese keeper and into an empty net .\n",
       "=> correct"
      ]
     },
     "execution_count": 10,
     "metadata": {},
     "output_type": "execute_result"
    }
   ],
   "source": [
    "parser.pems[1].ems_pair"
   ]
  },
  {
   "cell_type": "code",
   "execution_count": 11,
   "metadata": {},
   "outputs": [
    {
     "name": "stdout",
     "output_type": "stream",
     "text": [
      "D0-S5-PAIR2\n",
      "(G) China controlled most of the match and saw several chances missed until the 78th minute when Uzbek striker \u001b[33m[Igor Shkvyrin]PER\u001b[0m took advantage of a misdirected defensive header to lob the ball over the advancing Chinese keeper and into an empty net .\n",
      "(P) China controlled most of the match and saw several chances missed until the 78th minute when Uzbek striker \u001b[34m[Igor Shkvyrin]PER\u001b[0m took advantage of a misdirected defensive header to lob the ball over the advancing Chinese keeper and into an empty net .\n",
      "=> correct\n"
     ]
    }
   ],
   "source": [
    "print(parser.pems[1].ems_pair)"
   ]
  },
  {
   "cell_type": "code",
   "execution_count": 12,
   "metadata": {},
   "outputs": [
    {
     "data": {
      "text/plain": [
       "D18-S0-PAIR0\n",
       "(G) CRICKET - \u001b[33m[SHEFFIELD SHIELD]MISC\u001b[0m SCORE .\n",
       "(P) CRICKET - \u001b[34m[SHEFFIELD]LOC\u001b[0m SHIELD SCORE .\n",
       "=> MISC -> LOC & Right Diminished"
      ]
     },
     "execution_count": 12,
     "metadata": {},
     "output_type": "execute_result"
    }
   ],
   "source": [
    "parser.ner_errors[15].ems_pair"
   ]
  },
  {
   "cell_type": "code",
   "execution_count": 13,
   "metadata": {},
   "outputs": [
    {
     "data": {
      "text/plain": [
       "D0-S0-PAIR1\n",
       "(G) SOCCER - JAPAN GET LUCKY WIN , \u001b[33m[CHINA]PER\u001b[0m IN SURPRISE DEFEAT .\n",
       "(P) SOCCER - JAPAN GET LUCKY WIN , \u001b[34m[CHINA]LOC\u001b[0m IN SURPRISE DEFEAT .\n",
       "=> PER -> LOC"
      ]
     },
     "execution_count": 13,
     "metadata": {},
     "output_type": "execute_result"
    }
   ],
   "source": [
    "parser.ner_errors[0].ems_pair"
   ]
  },
  {
   "cell_type": "code",
   "execution_count": 14,
   "metadata": {},
   "outputs": [
    {
     "data": {
      "text/plain": [
       "'PER -> LOC'"
      ]
     },
     "execution_count": 14,
     "metadata": {},
     "output_type": "execute_result"
    }
   ],
   "source": [
    "parser.ner_errors[0].ems_pair.type"
   ]
  },
  {
   "cell_type": "code",
   "execution_count": 15,
   "metadata": {},
   "outputs": [
    {
     "data": {
      "text/plain": [
       "(D0-S0-NERErr0) ---\u001b[31mError\u001b[0m---\n",
       "[predict] CHINA (['LOC'])\n",
       "[gold] CHINA (['PER'])\n",
       "[type] ['PER -> LOC']\n",
       "[sentence] SOCCER - JAPAN GET LUCKY WIN , \u001b[34mCHINA\u001b[0m IN SURPRISE DEFEAT .\n",
       "[ID] D0-S0-NERErr0"
      ]
     },
     "execution_count": 15,
     "metadata": {},
     "output_type": "execute_result"
    }
   ],
   "source": [
    "parser.ner_errors[0].ems_pair.result"
   ]
  },
  {
   "cell_type": "code",
   "execution_count": 16,
   "metadata": {},
   "outputs": [
    {
     "data": {
      "text/plain": [
       "False"
      ]
     },
     "execution_count": 16,
     "metadata": {},
     "output_type": "execute_result"
    }
   ],
   "source": [
    "isinstance(parser.docs[0], nlu.data.Document)"
   ]
  },
  {
   "cell_type": "code",
   "execution_count": 17,
   "metadata": {},
   "outputs": [],
   "source": [
    "import ansi.color"
   ]
  },
  {
   "cell_type": "code",
   "execution_count": 18,
   "metadata": {},
   "outputs": [],
   "source": [
    "from ansi.color import fg"
   ]
  },
  {
   "cell_type": "code",
   "execution_count": 19,
   "metadata": {},
   "outputs": [
    {
     "data": {
      "text/plain": [
       "[(1, 'a')]"
      ]
     },
     "execution_count": 19,
     "metadata": {},
     "output_type": "execute_result"
    }
   ],
   "source": [
    "list(zip([1,2], ['a']))"
   ]
  },
  {
   "cell_type": "code",
   "execution_count": 23,
   "metadata": {},
   "outputs": [
    {
     "data": {
      "text/plain": [
       "(D100) (11 sents) (224 toks)\n",
       "(D100-S0) (10 toks) \u001b[32m[\u001b[0mChile\u001b[32m]LOC\u001b[0m , \u001b[32m[\u001b[0mMexico\u001b[32m]LOC\u001b[0m to seek to broaden trade deal .\n",
       "(D100-S1) (2 toks) \u001b[32m[\u001b[0mSANTIAGO\u001b[32m]PER\u001b[0m 1996-12-05\n",
       "(D100-S2) (26 toks) \u001b[32m[\u001b[0mChile\u001b[32m]LOC\u001b[0m and \u001b[32m[\u001b[0mMexico\u001b[32m]LOC\u001b[0m will start negotiations next year to broaden their free trade agreement to include services and investments , \u001b[33m[\u001b[0mFinance\u001b[33m]ORG\u001b[0m Minister \u001b[32m[\u001b[0mEduardo Aninat\u001b[32m]PER\u001b[0m said .\n",
       "(D100-S3) (29 toks) \u001b[32m[\u001b[0mChile\u001b[32m]LOC\u001b[0m hopes to broaden the treaty signed in 1994 beyond reduction of tariffs on imports and exports and add provisions covering services and investment codes , said \u001b[32m[\u001b[0mAninat\u001b[32m]PER\u001b[0m .\n",
       "(D100-S4) (16 toks) Both areas tend to more laden with friction in free trade negotiations than tariff reduction .\n",
       "(D100-S5) (44 toks) ' ' In January or February , we 'll have some very close contacts with \u001b[32m[\u001b[0mMexico\u001b[32m]LOC\u001b[0m to add the issue of services and advance on the issue of investments , ' ' \u001b[32m[\u001b[0mAninat\u001b[32m]PER\u001b[0m told reporters after signing a free trade deal with \u001b[32m[\u001b[0mCanada\u001b[32m]LOC\u001b[0m .\n",
       "(D100-S6) (21 toks) ' ' We want to give the treaty between \u001b[32m[\u001b[0mMexico\u001b[32m]LOC\u001b[0m and \u001b[32m[\u001b[0mChile\u001b[32m]LOC\u001b[0m greater depth and coverage than it has now .\n",
       "(D100-S7) (20 toks) It 's very good now , but it practically only covers trade in goods , ' ' he said .\n",
       "(D100-S8) (17 toks) \u001b[32m[\u001b[0mAninat\u001b[32m]PER\u001b[0m also said he was confident the \u001b[32m[\u001b[0mChilean\u001b[32m]MISC\u001b[0m \u001b[31m[\u001b[0mCongress\u001b[31m]ORG\u001b[0m would ratify the treaty with \u001b[31m[\u001b[0mCongress\u001b[31m]ORG\u001b[0m quickly .\n",
       "(D100-S9) (31 toks) ' ' The reactions from business and unions which I have seen have been almost unanimously positive , so I do n't see any problem , ' ' he said .\n",
       "(D100-S10) (8 toks) -- \u001b[32m[\u001b[0mRoger Atwood\u001b[32m]PER\u001b[0m , \u001b[32m[\u001b[0mSantiago\u001b[32m]LOC\u001b[0m newsroom +56-2-699-5595 x211"
      ]
     },
     "execution_count": 23,
     "metadata": {},
     "output_type": "execute_result"
    }
   ],
   "source": [
    "parser.docs[100]"
   ]
  },
  {
   "cell_type": "code",
   "execution_count": 17,
   "metadata": {},
   "outputs": [
    {
     "name": "stdout",
     "output_type": "stream",
     "text": [
      "(D0-S3)\n",
      "(P)  \u001b[34m[\u001b[0mJapan\u001b[34m]LOC\u001b[0m began the defence of their \u001b[34m[\u001b[0mAsian Cup\u001b[34m]MISC\u001b[0m title with a lucky 2-1 win against \u001b[34m[\u001b[0mSyria\u001b[34m]LOC\u001b[0m in a \u001b[34m[\u001b[0mGroup C\u001b[34m]MISC\u001b[0m championship match on Friday .\n",
      "(G)  \u001b[33m[\u001b[0mJapan\u001b[33m]LOC\u001b[0m began the defence of their \u001b[33m[\u001b[0mAsian Cup\u001b[33m]MISC\u001b[0m title with a lucky 2-1 win against \u001b[33m[\u001b[0mSyria\u001b[33m]LOC\u001b[0m in a Group C championship match on Friday .\n",
      "(D0-S3)\n",
      "(P)  [Japan]LOC began the defence of their [Asian Cup]MISC title with a lucky 2-1 win against [Syria]LOC in a [Group C]MISC championship match on Friday .\n",
      "(G)  [Japan]LOC began the defence of their [Asian Cup]MISC title with a lucky 2-1 win against [Syria]LOC in a Group C championship match on Friday .\n",
      "(D0-S3)\n",
      "(P)  \u001b[34m[Japan]LOC\u001b[0m began the defence of their \u001b[34m[Asian Cup]MISC\u001b[0m title with a lucky 2-1 win against \u001b[34m[Syria]LOC\u001b[0m in a \u001b[34m[Group C]MISC\u001b[0m championship match on Friday .\n",
      "(G)  \u001b[33m[Japan]LOC\u001b[0m began the defence of their \u001b[33m[Asian Cup]MISC\u001b[0m title with a lucky 2-1 win against \u001b[33m[Syria]LOC\u001b[0m in a Group C championship match on Friday .\n"
     ]
    }
   ],
   "source": [
    "parser.docs[0][3].print_all_ann_sent(color_em='bracket')\n",
    "parser.docs[0][3].print_all_ann_sent(color_em='none')\n",
    "parser.docs[0][3].print_all_ann_sent(color_em='all')"
   ]
  },
  {
   "cell_type": "code",
   "execution_count": 18,
   "metadata": {},
   "outputs": [
    {
     "data": {
      "text/plain": [
       "D0-S5-PAIR2\n",
       "(G) China controlled most of the match and saw several chances missed until the 78th minute when Uzbek striker \u001b[33m[Igor Shkvyrin]PER\u001b[0m took advantage of a misdirected defensive header to lob the ball over the advancing Chinese keeper and into an empty net .\n",
       "(P) China controlled most of the match and saw several chances missed until the 78th minute when Uzbek striker \u001b[34m[Igor Shkvyrin]PER\u001b[0m took advantage of a misdirected defensive header to lob the ball over the advancing Chinese keeper and into an empty net .\n",
       "=> correct"
      ]
     },
     "execution_count": 18,
     "metadata": {},
     "output_type": "execute_result"
    }
   ],
   "source": [
    "parser.gems[2].ems_pair"
   ]
  }
 ],
 "metadata": {
  "kernelspec": {
   "display_name": "Python 3",
   "language": "python",
   "name": "python3"
  },
  "language_info": {
   "codemirror_mode": {
    "name": "ipython",
    "version": 3
   },
   "file_extension": ".py",
   "mimetype": "text/x-python",
   "name": "python",
   "nbconvert_exporter": "python",
   "pygments_lexer": "ipython3",
   "version": "3.6.8"
  },
  "toc-autonumbering": true,
  "toc-showcode": true,
  "toc-showmarkdowntxt": false,
  "toc-showtags": true
 },
 "nbformat": 4,
 "nbformat_minor": 4
}
